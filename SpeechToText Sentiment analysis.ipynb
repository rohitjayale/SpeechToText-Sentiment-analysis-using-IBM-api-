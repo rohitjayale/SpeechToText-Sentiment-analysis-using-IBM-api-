{
 "cells": [
  {
   "cell_type": "markdown",
   "metadata": {},
   "source": [
    "# Speech To Text and Sentiment Analysis using IBM watson API"
   ]
  },
  {
   "cell_type": "code",
   "execution_count": 117,
   "metadata": {},
   "outputs": [],
   "source": [
    "#you will need the following library \n",
    "#!pip install ibm_watson wget"
   ]
  },
  {
   "cell_type": "markdown",
   "metadata": {},
   "source": [
    "**First we import SpeechToTextV1 from ibm_watson."
   ]
  },
  {
   "cell_type": "code",
   "execution_count": 2,
   "metadata": {},
   "outputs": [],
   "source": [
    "from ibm_watson import SpeechToTextV1 \n",
    "import json\n",
    "from ibm_cloud_sdk_core.authenticators import IAMAuthenticator"
   ]
  },
  {
   "cell_type": "markdown",
   "metadata": {},
   "source": [
    "***The service endpoint is based on the location of the service instance, we store the information in the variable URL. To find out which URL to use, view the service credentials.You require an API key, and you can obtain the key on the IBM cloud dashboard"
   ]
  },
  {
   "cell_type": "code",
   "execution_count": 8,
   "metadata": {},
   "outputs": [],
   "source": [
    "url_s2t = \" \" ##url from IBM \n",
    "\n",
    "iam_apikey_s2t = \"  \" ##api key"
   ]
  },
  {
   "cell_type": "code",
   "execution_count": 11,
   "metadata": {},
   "outputs": [
    {
     "data": {
      "text/plain": [
       "<ibm_watson.speech_to_text_v1_adapter.SpeechToTextV1Adapter at 0x231c69554e0>"
      ]
     },
     "execution_count": 11,
     "metadata": {},
     "output_type": "execute_result"
    }
   ],
   "source": [
    "authenticator = IAMAuthenticator(iam_apikey_s2t)\n",
    "s2t = SpeechToTextV1(authenticator=authenticator)\n",
    "s2t.set_service_url(url_s2t)\n",
    "s2t"
   ]
  },
  {
   "cell_type": "code",
   "execution_count": 16,
   "metadata": {},
   "outputs": [],
   "source": [
    "filename='test2.mp3' ##audio file path\n",
    "with open(filename, mode=\"rb\")  as wav:\n",
    "    response = s2t.recognize(audio=wav, content_type='audio/mp3')"
   ]
  },
  {
   "cell_type": "markdown",
   "metadata": {},
   "source": [
    "**The attribute result contains a dictionary that includes the translation:"
   ]
  },
  {
   "cell_type": "code",
   "execution_count": 33,
   "metadata": {},
   "outputs": [
    {
     "data": {
      "text/plain": [
       "{'results': [{'alternatives': [{'confidence': 0.93,\n",
       "     'transcript': 'in this video we will cover polynomial regression and pipelines '}],\n",
       "   'final': True},\n",
       "  {'alternatives': [{'confidence': 0.9,\n",
       "     'transcript': \"what do we do when a linear model is not the best fit for our data let's look into another type of regression model the polynomial regression we transform our data into a polynomial then use linear regression to fit the parameters that we will discuss pipelines pipelines are way to simplify your code \"}],\n",
       "   'final': True},\n",
       "  {'alternatives': [{'confidence': 0.95,\n",
       "     'transcript': \"polynomial regression is a special case of the general linear regression this method is beneficial for describing curvilinear relationships what is a curvilinear relationship it's what you get by squaring or setting higher order terms of the predictor variables in the model transforming the data the model can be quadratic which means the predictor variable in the model is squared we use a bracket to indicated as an exponent this is the second order polynomial regression with a figure representing the function \"}],\n",
       "   'final': True},\n",
       "  {'alternatives': [{'confidence': 0.95,\n",
       "     'transcript': 'the model can be cubic which means the predictor variable is cute this is the third order polynomial regression we see by examining the figure that the function has more variation '}],\n",
       "   'final': True},\n",
       "  {'alternatives': [{'confidence': 0.91,\n",
       "     'transcript': \"there also exists higher order polynomial regressions when a good fit hasn't been achieved by second or third order we can see in figures how much the graphs change when we change the order of the polynomial regression the degree of the regression makes a big difference and can result in a better fit if you pick the right value in all cases the relationship between the variable in the parameter is always linear \"}],\n",
       "   'final': True},\n",
       "  {'alternatives': [{'confidence': 0.89,\n",
       "     'transcript': \"let's look at an example from our data we generate a polynomial regression model \"}],\n",
       "   'final': True},\n",
       "  {'alternatives': [{'confidence': 0.92,\n",
       "     'transcript': 'in python we do this by using the poly fit function in this example we develop a third order polynomial regression model base we can print out the model symbolic form for the model is given by the following expression '}],\n",
       "   'final': True},\n",
       "  {'alternatives': [{'confidence': 0.9,\n",
       "     'transcript': \"negative one point five five seven X. one cute plus two hundred four point eight X. one squared plus eight thousand nine hundred sixty five X. one plus one point three seven times ten to the power of five we can also have multi dimensional polynomial linear regression the expression can get complicated here are just some of the terms for two dimensional second order polynomial none pies poly fit function cannot perform this type of regression we use the preprocessing librarian scikit learn to create a polynomial feature object the constructor takes the degree of the polynomial as a parameter then we transform the features into a polynomial feature with the fit underscore transform method let's do a more intuitive example \"}],\n",
       "   'final': True},\n",
       "  {'alternatives': [{'confidence': 0.9,\n",
       "     'transcript': 'consider the feature shown here applying the method we transform the data we now have a new set of features that are transformed version of our original features as that I mention of the data gets larger we may want to normalize multiple features as scikit learn instead we can use the preprocessing module to simplify many tasks for example we can standardize each feature simultaneously we import standard scaler we train the object fit the scale object then transform the data into a new data frame on a rate X. underscore scale there are more normalization methods available in the pre processing library as well as other transformations we can simplify our code by using a pipeline library there are many steps to getting a prediction for example normalization polynomial transform and linear regression we simplify the process using a pipeline '}],\n",
       "   'final': True},\n",
       "  {'alternatives': [{'confidence': 0.89,\n",
       "     'transcript': 'pipeline sequentially perform a series of transformations the last step carries out a prediction first we import all the modules we need then we import the library pipeline we create a list of topples the first element in the topple contains the name of the estimator model the second element contains model constructor we input the list in the pipeline constructor we now have a pipeline object we can train the pipeline by applying the train method to the pipeline object we can also produce a prediction as well '}],\n",
       "   'final': True},\n",
       "  {'alternatives': [{'confidence': 0.89,\n",
       "     'transcript': 'the method normalizes the data performs a polynomial transform then outputs a prediction '}],\n",
       "   'final': True}],\n",
       " 'result_index': 0}"
      ]
     },
     "execution_count": 33,
     "metadata": {},
     "output_type": "execute_result"
    }
   ],
   "source": [
    "response.result"
   ]
  },
  {
   "cell_type": "code",
   "execution_count": 50,
   "metadata": {},
   "outputs": [
    {
     "data": {
      "text/html": [
       "<div>\n",
       "<style scoped>\n",
       "    .dataframe tbody tr th:only-of-type {\n",
       "        vertical-align: middle;\n",
       "    }\n",
       "\n",
       "    .dataframe tbody tr th {\n",
       "        vertical-align: top;\n",
       "    }\n",
       "\n",
       "    .dataframe thead th {\n",
       "        text-align: right;\n",
       "    }\n",
       "</style>\n",
       "<table border=\"1\" class=\"dataframe\">\n",
       "  <thead>\n",
       "    <tr style=\"text-align: right;\">\n",
       "      <th></th>\n",
       "      <th>confidence</th>\n",
       "      <th>transcript</th>\n",
       "    </tr>\n",
       "  </thead>\n",
       "  <tbody>\n",
       "    <tr>\n",
       "      <th>0</th>\n",
       "      <td>0.93</td>\n",
       "      <td>in this video we will cover polynomial regress...</td>\n",
       "    </tr>\n",
       "    <tr>\n",
       "      <th>1</th>\n",
       "      <td>0.90</td>\n",
       "      <td>what do we do when a linear model is not the b...</td>\n",
       "    </tr>\n",
       "    <tr>\n",
       "      <th>2</th>\n",
       "      <td>0.95</td>\n",
       "      <td>polynomial regression is a special case of the...</td>\n",
       "    </tr>\n",
       "    <tr>\n",
       "      <th>3</th>\n",
       "      <td>0.95</td>\n",
       "      <td>the model can be cubic which means the predict...</td>\n",
       "    </tr>\n",
       "    <tr>\n",
       "      <th>4</th>\n",
       "      <td>0.91</td>\n",
       "      <td>there also exists higher order polynomial regr...</td>\n",
       "    </tr>\n",
       "    <tr>\n",
       "      <th>5</th>\n",
       "      <td>0.89</td>\n",
       "      <td>let's look at an example from our data we gene...</td>\n",
       "    </tr>\n",
       "    <tr>\n",
       "      <th>6</th>\n",
       "      <td>0.92</td>\n",
       "      <td>in python we do this by using the poly fit fun...</td>\n",
       "    </tr>\n",
       "    <tr>\n",
       "      <th>7</th>\n",
       "      <td>0.90</td>\n",
       "      <td>negative one point five five seven X. one cute...</td>\n",
       "    </tr>\n",
       "    <tr>\n",
       "      <th>8</th>\n",
       "      <td>0.90</td>\n",
       "      <td>consider the feature shown here applying the m...</td>\n",
       "    </tr>\n",
       "    <tr>\n",
       "      <th>9</th>\n",
       "      <td>0.89</td>\n",
       "      <td>pipeline sequentially perform a series of tran...</td>\n",
       "    </tr>\n",
       "    <tr>\n",
       "      <th>10</th>\n",
       "      <td>0.89</td>\n",
       "      <td>the method normalizes the data performs a poly...</td>\n",
       "    </tr>\n",
       "  </tbody>\n",
       "</table>\n",
       "</div>"
      ],
      "text/plain": [
       "    confidence                                         transcript\n",
       "0         0.93  in this video we will cover polynomial regress...\n",
       "1         0.90  what do we do when a linear model is not the b...\n",
       "2         0.95  polynomial regression is a special case of the...\n",
       "3         0.95  the model can be cubic which means the predict...\n",
       "4         0.91  there also exists higher order polynomial regr...\n",
       "5         0.89  let's look at an example from our data we gene...\n",
       "6         0.92  in python we do this by using the poly fit fun...\n",
       "7         0.90  negative one point five five seven X. one cute...\n",
       "8         0.90  consider the feature shown here applying the m...\n",
       "9         0.89  pipeline sequentially perform a series of tran...\n",
       "10        0.89  the method normalizes the data performs a poly..."
      ]
     },
     "execution_count": 50,
     "metadata": {},
     "output_type": "execute_result"
    }
   ],
   "source": [
    "from pandas.io.json import json_normalize\n",
    "import pandas as pd\n",
    "data = pd.json_normalize(response.result['results'],\"alternatives\") \n",
    "data"
   ]
  },
  {
   "cell_type": "code",
   "execution_count": 56,
   "metadata": {},
   "outputs": [
    {
     "name": "stdout",
     "output_type": "stream",
     "text": [
      "<class 'pandas.core.frame.DataFrame'>\n",
      "RangeIndex: 11 entries, 0 to 10\n",
      "Data columns (total 2 columns):\n",
      " #   Column      Non-Null Count  Dtype  \n",
      "---  ------      --------------  -----  \n",
      " 0   confidence  11 non-null     float64\n",
      " 1   transcript  11 non-null     object \n",
      "dtypes: float64(1), object(1)\n",
      "memory usage: 304.0+ bytes\n"
     ]
    }
   ],
   "source": [
    " data.info()"
   ]
  },
  {
   "cell_type": "code",
   "execution_count": 57,
   "metadata": {},
   "outputs": [
    {
     "data": {
      "text/html": [
       "<div>\n",
       "<style scoped>\n",
       "    .dataframe tbody tr th:only-of-type {\n",
       "        vertical-align: middle;\n",
       "    }\n",
       "\n",
       "    .dataframe tbody tr th {\n",
       "        vertical-align: top;\n",
       "    }\n",
       "\n",
       "    .dataframe thead th {\n",
       "        text-align: right;\n",
       "    }\n",
       "</style>\n",
       "<table border=\"1\" class=\"dataframe\">\n",
       "  <thead>\n",
       "    <tr style=\"text-align: right;\">\n",
       "      <th></th>\n",
       "      <th>confidence</th>\n",
       "    </tr>\n",
       "  </thead>\n",
       "  <tbody>\n",
       "    <tr>\n",
       "      <th>count</th>\n",
       "      <td>11.000000</td>\n",
       "    </tr>\n",
       "    <tr>\n",
       "      <th>mean</th>\n",
       "      <td>0.911818</td>\n",
       "    </tr>\n",
       "    <tr>\n",
       "      <th>std</th>\n",
       "      <td>0.022724</td>\n",
       "    </tr>\n",
       "    <tr>\n",
       "      <th>min</th>\n",
       "      <td>0.890000</td>\n",
       "    </tr>\n",
       "    <tr>\n",
       "      <th>25%</th>\n",
       "      <td>0.895000</td>\n",
       "    </tr>\n",
       "    <tr>\n",
       "      <th>50%</th>\n",
       "      <td>0.900000</td>\n",
       "    </tr>\n",
       "    <tr>\n",
       "      <th>75%</th>\n",
       "      <td>0.925000</td>\n",
       "    </tr>\n",
       "    <tr>\n",
       "      <th>max</th>\n",
       "      <td>0.950000</td>\n",
       "    </tr>\n",
       "  </tbody>\n",
       "</table>\n",
       "</div>"
      ],
      "text/plain": [
       "       confidence\n",
       "count   11.000000\n",
       "mean     0.911818\n",
       "std      0.022724\n",
       "min      0.890000\n",
       "25%      0.895000\n",
       "50%      0.900000\n",
       "75%      0.925000\n",
       "max      0.950000"
      ]
     },
     "execution_count": 57,
     "metadata": {},
     "output_type": "execute_result"
    }
   ],
   "source": [
    "data.describe() "
   ]
  },
  {
   "cell_type": "code",
   "execution_count": 116,
   "metadata": {},
   "outputs": [
    {
     "data": {
      "text/plain": [
       "<matplotlib.axes._subplots.AxesSubplot at 0x231cb4439b0>"
      ]
     },
     "execution_count": 116,
     "metadata": {},
     "output_type": "execute_result"
    },
    {
     "data": {
      "image/png": "[encoded data removed]",
      "text/plain": [
       "<Figure size 720x432 with 1 Axes>"
      ]
     },
     "metadata": {
      "needs_background": "light"
     },
     "output_type": "display_data"
    }
   ],
   "source": [
    "import matplotlib.pyplot as plt\n",
    "%matplotlib inline\n",
    "plt.figure(figsize=(10,6))\n",
    "data['confidence'].value_counts().plot(kind='bar')"
   ]
  },
  {
   "cell_type": "markdown",
   "metadata": {},
   "source": [
    "# textblob for Sentiment analysis"
   ]
  },
  {
   "cell_type": "code",
   "execution_count": 66,
   "metadata": {},
   "outputs": [
    {
     "name": "stdout",
     "output_type": "stream",
     "text": [
      "Collecting textblob\n",
      "  Downloading textblob-0.15.3-py2.py3-none-any.whl (636 kB)\n",
      "Requirement already satisfied: nltk>=3.1 in c:\\users\\rohit\\anaconda3\\lib\\site-packages (from textblob) (3.4.5)\n",
      "Requirement already satisfied: six in c:\\users\\rohit\\anaconda3\\lib\\site-packages (from nltk>=3.1->textblob) (1.14.0)\n",
      "Installing collected packages: textblob\n",
      "Successfully installed textblob-0.15.3\n"
     ]
    }
   ],
   "source": [
    "#!pip install textblob \n",
    "import nltk\n",
    "from nltk import word_tokenize, sent_tokenize\n",
    "from nltk.corpus import stopwords\n",
    "from nltk.stem import LancasterStemmer, WordNetLemmatizer, PorterStemmer\n",
    "from wordcloud import WordCloud , STOPWORDS\n",
    "from textblob import TextBlob"
   ]
  },
  {
   "cell_type": "code",
   "execution_count": 70,
   "metadata": {},
   "outputs": [
    {
     "data": {
      "text/plain": [
       "'polynomial regression special case general linear regression method beneficial describing curvilinear relationships curvilinear relationship get squaring setting higher order terms predictor variables model transforming data model quadratic means predictor variable model squared use bracket indicated exponent second order polynomial regression figure representing function'"
      ]
     },
     "execution_count": 70,
     "metadata": {},
     "output_type": "execute_result"
    }
   ],
   "source": [
    "stop = stopwords.words('english')\n",
    "data['transcript'] = data['transcript'].apply(lambda x: \" \".join(x for x in x.split() if x not in stop))\n",
    "data['transcript'][2]\n",
    "#'inexpensive tablet use learn step nabi thrilled learn skype already'"
   ]
  },
  {
   "cell_type": "code",
   "execution_count": 71,
   "metadata": {},
   "outputs": [
    {
     "data": {
      "text/plain": [
       "'polynomi regress special case gener linear regress method benefici describ curvilinear relationship curvilinear relationship get squar set higher order term predictor variabl model transform data model quadrat mean predictor variabl model squar use bracket indic expon second order polynomi regress figur repres function'"
      ]
     },
     "execution_count": 71,
     "metadata": {},
     "output_type": "execute_result"
    }
   ],
   "source": [
    "st = PorterStemmer()\n",
    "data['transcript'] = data['transcript'].apply(lambda x: \" \".join([st.stem(word) for word in x.split()]))\n",
    "data['transcript'][2]"
   ]
  },
  {
   "cell_type": "code",
   "execution_count": 85,
   "metadata": {},
   "outputs": [
    {
     "data": {
      "text/plain": [
       "0                                     (0.0, 0.0)\n",
       "1                      (0.6, 0.3666666666666667)\n",
       "2      (0.0736607142857143, 0.43973214285714285)\n",
       "3                               (0.0625, 0.5625)\n",
       "4       (0.2735714285714285, 0.3235714285714285)\n",
       "5                                     (0.0, 0.0)\n",
       "6     (-0.13333333333333333, 0.4666666666666666)\n",
       "7                                   (0.26, 0.36)\n",
       "8     (0.12474747474747476, 0.41767676767676765)\n",
       "9                   (0.125, 0.18333333333333332)\n",
       "10                    (0.15, 0.6499999999999999)\n",
       "Name: senti_score, dtype: object"
      ]
     },
     "execution_count": 85,
     "metadata": {},
     "output_type": "execute_result"
    }
   ],
   "source": [
    "def senti(x):\n",
    "    return TextBlob(x).sentiment  \n",
    "\n",
    "data['senti_score'] = data['transcript'].apply(senti)\n",
    "\n",
    "data.senti_score"
   ]
  },
  {
   "cell_type": "code",
   "execution_count": 106,
   "metadata": {},
   "outputs": [
    {
     "data": {
      "text/html": [
       "<div>\n",
       "<style scoped>\n",
       "    .dataframe tbody tr th:only-of-type {\n",
       "        vertical-align: middle;\n",
       "    }\n",
       "\n",
       "    .dataframe tbody tr th {\n",
       "        vertical-align: top;\n",
       "    }\n",
       "\n",
       "    .dataframe thead th {\n",
       "        text-align: right;\n",
       "    }\n",
       "</style>\n",
       "<table border=\"1\" class=\"dataframe\">\n",
       "  <thead>\n",
       "    <tr style=\"text-align: right;\">\n",
       "      <th></th>\n",
       "      <th>confidence</th>\n",
       "      <th>transcript</th>\n",
       "      <th>senti_score</th>\n",
       "      <th>polarity</th>\n",
       "    </tr>\n",
       "  </thead>\n",
       "  <tbody>\n",
       "    <tr>\n",
       "      <th>0</th>\n",
       "      <td>0.93</td>\n",
       "      <td>video cover polynomi regress pipelin</td>\n",
       "      <td>(0.0, 0.0)</td>\n",
       "      <td>0.000000</td>\n",
       "    </tr>\n",
       "    <tr>\n",
       "      <th>1</th>\n",
       "      <td>0.90</td>\n",
       "      <td>linear model best fit data let' look anoth typ...</td>\n",
       "      <td>(0.6, 0.3666666666666667)</td>\n",
       "      <td>0.600000</td>\n",
       "    </tr>\n",
       "    <tr>\n",
       "      <th>2</th>\n",
       "      <td>0.95</td>\n",
       "      <td>polynomi regress special case gener linear reg...</td>\n",
       "      <td>(0.0736607142857143, 0.43973214285714285)</td>\n",
       "      <td>0.073661</td>\n",
       "    </tr>\n",
       "    <tr>\n",
       "      <th>3</th>\n",
       "      <td>0.95</td>\n",
       "      <td>model cubic mean predictor variabl cute third ...</td>\n",
       "      <td>(0.0625, 0.5625)</td>\n",
       "      <td>0.062500</td>\n",
       "    </tr>\n",
       "    <tr>\n",
       "      <th>4</th>\n",
       "      <td>0.91</td>\n",
       "      <td>also exist higher order polynomi regress good ...</td>\n",
       "      <td>(0.2735714285714285, 0.3235714285714285)</td>\n",
       "      <td>0.273571</td>\n",
       "    </tr>\n",
       "    <tr>\n",
       "      <th>5</th>\n",
       "      <td>0.89</td>\n",
       "      <td>let' look exampl data gener polynomi regress m...</td>\n",
       "      <td>(0.0, 0.0)</td>\n",
       "      <td>0.000000</td>\n",
       "    </tr>\n",
       "    <tr>\n",
       "      <th>6</th>\n",
       "      <td>0.92</td>\n",
       "      <td>python use poli fit function exampl develop th...</td>\n",
       "      <td>(-0.13333333333333333, 0.4666666666666666)</td>\n",
       "      <td>-0.133333</td>\n",
       "    </tr>\n",
       "    <tr>\n",
       "      <th>7</th>\n",
       "      <td>0.90</td>\n",
       "      <td>neg one point five five seven X. one cute plu ...</td>\n",
       "      <td>(0.26, 0.36)</td>\n",
       "      <td>0.260000</td>\n",
       "    </tr>\n",
       "    <tr>\n",
       "      <th>8</th>\n",
       "      <td>0.90</td>\n",
       "      <td>consid featur shown appli method transform dat...</td>\n",
       "      <td>(0.12474747474747476, 0.41767676767676765)</td>\n",
       "      <td>0.124747</td>\n",
       "    </tr>\n",
       "    <tr>\n",
       "      <th>9</th>\n",
       "      <td>0.89</td>\n",
       "      <td>pipelin sequenti perform seri transform last s...</td>\n",
       "      <td>(0.125, 0.18333333333333332)</td>\n",
       "      <td>0.125000</td>\n",
       "    </tr>\n",
       "    <tr>\n",
       "      <th>10</th>\n",
       "      <td>0.89</td>\n",
       "      <td>method normal data perform polynomi transform ...</td>\n",
       "      <td>(0.15, 0.6499999999999999)</td>\n",
       "      <td>0.150000</td>\n",
       "    </tr>\n",
       "  </tbody>\n",
       "</table>\n",
       "</div>"
      ],
      "text/plain": [
       "    confidence                                         transcript  \\\n",
       "0         0.93               video cover polynomi regress pipelin   \n",
       "1         0.90  linear model best fit data let' look anoth typ...   \n",
       "2         0.95  polynomi regress special case gener linear reg...   \n",
       "3         0.95  model cubic mean predictor variabl cute third ...   \n",
       "4         0.91  also exist higher order polynomi regress good ...   \n",
       "5         0.89  let' look exampl data gener polynomi regress m...   \n",
       "6         0.92  python use poli fit function exampl develop th...   \n",
       "7         0.90  neg one point five five seven X. one cute plu ...   \n",
       "8         0.90  consid featur shown appli method transform dat...   \n",
       "9         0.89  pipelin sequenti perform seri transform last s...   \n",
       "10        0.89  method normal data perform polynomi transform ...   \n",
       "\n",
       "                                   senti_score  polarity  \n",
       "0                                   (0.0, 0.0)  0.000000  \n",
       "1                    (0.6, 0.3666666666666667)  0.600000  \n",
       "2    (0.0736607142857143, 0.43973214285714285)  0.073661  \n",
       "3                             (0.0625, 0.5625)  0.062500  \n",
       "4     (0.2735714285714285, 0.3235714285714285)  0.273571  \n",
       "5                                   (0.0, 0.0)  0.000000  \n",
       "6   (-0.13333333333333333, 0.4666666666666666) -0.133333  \n",
       "7                                 (0.26, 0.36)  0.260000  \n",
       "8   (0.12474747474747476, 0.41767676767676765)  0.124747  \n",
       "9                 (0.125, 0.18333333333333332)  0.125000  \n",
       "10                  (0.15, 0.6499999999999999)  0.150000  "
      ]
     },
     "execution_count": 106,
     "metadata": {},
     "output_type": "execute_result"
    }
   ],
   "source": [
    "def detect_polarity(text):\n",
    "    return TextBlob(text).sentiment.polarity\n",
    "\n",
    "data['polarity'] = data.transcript.apply(detect_polarity)\n",
    "data"
   ]
  },
  {
   "cell_type": "code",
   "execution_count": 87,
   "metadata": {},
   "outputs": [
    {
     "data": {
      "image/png": "[encoded data removed]",
      "text/plain": [
       "<Figure size 720x432 with 1 Axes>"
      ]
     },
     "metadata": {
      "needs_background": "light"
     },
     "output_type": "display_data"
    }
   ],
   "source": [
    "num_bins = 5\n",
    "plt.figure(figsize=(10,6))\n",
    "n, bins, patches = plt.hist(data.polarity, num_bins, facecolor='green', alpha=0.5)\n",
    "plt.xlabel('Polarity')\n",
    "plt.ylabel('Count')\n",
    "plt.title('Histogram of polarity')\n",
    "plt.show();"
   ]
  },
  {
   "cell_type": "code",
   "execution_count": 115,
   "metadata": {},
   "outputs": [
    {
     "data": {
      "text/plain": [
       "0                  video cover polynomi regress pipelin\n",
       "1     linear model best fit data let' look anoth typ...\n",
       "2     polynomi regress special case gener linear reg...\n",
       "3     model cubic mean predictor variabl cute third ...\n",
       "4     also exist higher order polynomi regress good ...\n",
       "5     let' look exampl data gener polynomi regress m...\n",
       "6     python use poli fit function exampl develop th...\n",
       "7     neg one point five five seven X. one cute plu ...\n",
       "8     consid featur shown appli method transform dat...\n",
       "9     pipelin sequenti perform seri transform last s...\n",
       "10    method normal data perform polynomi transform ...\n",
       "Name: transcript, dtype: object"
      ]
     },
     "execution_count": 115,
     "metadata": {},
     "output_type": "execute_result"
    }
   ],
   "source": [
    "data[data.polarity >= -1].transcript"
   ]
  },
  {
   "cell_type": "code",
   "execution_count": 113,
   "metadata": {},
   "outputs": [
    {
     "data": {
      "text/plain": [
       "Series([], Name: transcript, dtype: object)"
      ]
     },
     "execution_count": 113,
     "metadata": {},
     "output_type": "execute_result"
    }
   ],
   "source": [
    "data[data.polarity == 1].transcript.head()"
   ]
  },
  {
   "cell_type": "code",
   "execution_count": null,
   "metadata": {},
   "outputs": [],
   "source": []
  }
 ],
 "metadata": {
  "kernelspec": {
   "display_name": "Python 3",
   "language": "python",
   "name": "python3"
  },
  "language_info": {
   "codemirror_mode": {
    "name": "ipython",
    "version": 3
   },
   "file_extension": ".py",
   "mimetype": "text/x-python",
   "name": "python",
   "nbconvert_exporter": "python",
   "pygments_lexer": "ipython3",
   "version": "3.7.3"
  }
 },
 "nbformat": 4,
 "nbformat_minor": 4
}
